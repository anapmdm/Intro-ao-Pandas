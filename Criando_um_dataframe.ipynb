{
  "nbformat": 4,
  "nbformat_minor": 0,
  "metadata": {
    "colab": {
      "name": "Criando um dataframe.ipynb",
      "provenance": [],
      "collapsed_sections": [],
      "authorship_tag": "ABX9TyM7vDXNT4NV7y1/5OtHh1J3",
      "include_colab_link": true
    },
    "kernelspec": {
      "name": "python3",
      "display_name": "Python 3"
    }
  },
  "cells": [
    {
      "cell_type": "markdown",
      "metadata": {
        "id": "view-in-github",
        "colab_type": "text"
      },
      "source": [
        "<a href=\"https://colab.research.google.com/github/anapmdm/Intro-ao-Pandas/blob/main/Criando_um_dataframe.ipynb\" target=\"_parent\"><img src=\"https://colab.research.google.com/assets/colab-badge.svg\" alt=\"Open In Colab\"/></a>"
      ]
    },
    {
      "cell_type": "markdown",
      "metadata": {
        "id": "6wja_eeLfBfw"
      },
      "source": [
        "**Criando um DataFrame a partir de um dicionario**\r\n",
        "\r\n",
        "O pandas lê arquivos dataframe com .csv, no entanto vamos criar um usando dados \r\n",
        "do tipo *dict* e convertendo em dataframe."
      ]
    },
    {
      "cell_type": "code",
      "metadata": {
        "id": "1E2tgSRZfzmO"
      },
      "source": [
        "#importando o pandas\r\n",
        "import pandas as pd"
      ],
      "execution_count": 1,
      "outputs": []
    },
    {
      "cell_type": "code",
      "metadata": {
        "id": "7eZlYDTjgAfN"
      },
      "source": [
        "#criando dicionario\r\n",
        "#Em várias linhas para não ficar confuso\r\n",
        "#Atentar para os : fora de '' e virgula no final\r\n",
        "#CADA LINHDA DE DADOS VIRA UMA COLUNA\r\n",
        "dados = {\r\n",
        "    'nome':['Ana', 'Guilherme', 'João', 'Rosi', 'Alexandre'],\r\n",
        "    'idade':[29, 31,21,53,60],\r\n",
        "    'cidade':['Amsterdam','Velden','Massachusetts', 'Londres', 'Atenas' ],\r\n",
        "    'comprou': [True, False, False, True, False]\r\n",
        "}"
      ],
      "execution_count": 3,
      "outputs": []
    },
    {
      "cell_type": "code",
      "metadata": {
        "id": "Z7NiwABcixro"
      },
      "source": [
        "#criando dataframe\r\n",
        "df=pd.DataFrame(dados)"
      ],
      "execution_count": 4,
      "outputs": []
    },
    {
      "cell_type": "code",
      "metadata": {
        "colab": {
          "base_uri": "https://localhost:8080/",
          "height": 195
        },
        "id": "8eQO2aSxi80W",
        "outputId": "dbf93547-3e29-447b-cfb1-da7d69c65b4e"
      },
      "source": [
        "#Visualizando o dataframe\r\n",
        "df"
      ],
      "execution_count": 5,
      "outputs": [
        {
          "output_type": "execute_result",
          "data": {
            "text/html": [
              "<div>\n",
              "<style scoped>\n",
              "    .dataframe tbody tr th:only-of-type {\n",
              "        vertical-align: middle;\n",
              "    }\n",
              "\n",
              "    .dataframe tbody tr th {\n",
              "        vertical-align: top;\n",
              "    }\n",
              "\n",
              "    .dataframe thead th {\n",
              "        text-align: right;\n",
              "    }\n",
              "</style>\n",
              "<table border=\"1\" class=\"dataframe\">\n",
              "  <thead>\n",
              "    <tr style=\"text-align: right;\">\n",
              "      <th></th>\n",
              "      <th>nome</th>\n",
              "      <th>idade</th>\n",
              "      <th>cidade</th>\n",
              "      <th>comprou</th>\n",
              "    </tr>\n",
              "  </thead>\n",
              "  <tbody>\n",
              "    <tr>\n",
              "      <th>0</th>\n",
              "      <td>Ana</td>\n",
              "      <td>29</td>\n",
              "      <td>Amsterdam</td>\n",
              "      <td>True</td>\n",
              "    </tr>\n",
              "    <tr>\n",
              "      <th>1</th>\n",
              "      <td>Guilherme</td>\n",
              "      <td>31</td>\n",
              "      <td>Velden</td>\n",
              "      <td>False</td>\n",
              "    </tr>\n",
              "    <tr>\n",
              "      <th>2</th>\n",
              "      <td>João</td>\n",
              "      <td>21</td>\n",
              "      <td>Massachusetts</td>\n",
              "      <td>False</td>\n",
              "    </tr>\n",
              "    <tr>\n",
              "      <th>3</th>\n",
              "      <td>Rosi</td>\n",
              "      <td>53</td>\n",
              "      <td>Londres</td>\n",
              "      <td>True</td>\n",
              "    </tr>\n",
              "    <tr>\n",
              "      <th>4</th>\n",
              "      <td>Alexandre</td>\n",
              "      <td>60</td>\n",
              "      <td>Atenas</td>\n",
              "      <td>False</td>\n",
              "    </tr>\n",
              "  </tbody>\n",
              "</table>\n",
              "</div>"
            ],
            "text/plain": [
              "        nome  idade         cidade  comprou\n",
              "0        Ana     29      Amsterdam     True\n",
              "1  Guilherme     31         Velden    False\n",
              "2       João     21  Massachusetts    False\n",
              "3       Rosi     53        Londres     True\n",
              "4  Alexandre     60         Atenas    False"
            ]
          },
          "metadata": {
            "tags": []
          },
          "execution_count": 5
        }
      ]
    },
    {
      "cell_type": "code",
      "metadata": {
        "id": "TykVsyG0joZu"
      },
      "source": [
        "#Criando ID de usuario\r\n",
        "id_usuario = [123,124,125,126,127]"
      ],
      "execution_count": 6,
      "outputs": []
    },
    {
      "cell_type": "code",
      "metadata": {
        "id": "kCErk6zsj1Jm"
      },
      "source": [
        "#Associando o id do usuario a lista\r\n",
        "df.index=id_usuario"
      ],
      "execution_count": 8,
      "outputs": []
    },
    {
      "cell_type": "code",
      "metadata": {
        "colab": {
          "base_uri": "https://localhost:8080/",
          "height": 195
        },
        "id": "It5KMogokEfX",
        "outputId": "4b2e3ee5-00c5-4b72-f003-b63a95977dd6"
      },
      "source": [
        "#verificar o df\r\n",
        "df"
      ],
      "execution_count": 9,
      "outputs": [
        {
          "output_type": "execute_result",
          "data": {
            "text/html": [
              "<div>\n",
              "<style scoped>\n",
              "    .dataframe tbody tr th:only-of-type {\n",
              "        vertical-align: middle;\n",
              "    }\n",
              "\n",
              "    .dataframe tbody tr th {\n",
              "        vertical-align: top;\n",
              "    }\n",
              "\n",
              "    .dataframe thead th {\n",
              "        text-align: right;\n",
              "    }\n",
              "</style>\n",
              "<table border=\"1\" class=\"dataframe\">\n",
              "  <thead>\n",
              "    <tr style=\"text-align: right;\">\n",
              "      <th></th>\n",
              "      <th>nome</th>\n",
              "      <th>idade</th>\n",
              "      <th>cidade</th>\n",
              "      <th>comprou</th>\n",
              "    </tr>\n",
              "  </thead>\n",
              "  <tbody>\n",
              "    <tr>\n",
              "      <th>123</th>\n",
              "      <td>Ana</td>\n",
              "      <td>29</td>\n",
              "      <td>Amsterdam</td>\n",
              "      <td>True</td>\n",
              "    </tr>\n",
              "    <tr>\n",
              "      <th>124</th>\n",
              "      <td>Guilherme</td>\n",
              "      <td>31</td>\n",
              "      <td>Velden</td>\n",
              "      <td>False</td>\n",
              "    </tr>\n",
              "    <tr>\n",
              "      <th>125</th>\n",
              "      <td>João</td>\n",
              "      <td>21</td>\n",
              "      <td>Massachusetts</td>\n",
              "      <td>False</td>\n",
              "    </tr>\n",
              "    <tr>\n",
              "      <th>126</th>\n",
              "      <td>Rosi</td>\n",
              "      <td>53</td>\n",
              "      <td>Londres</td>\n",
              "      <td>True</td>\n",
              "    </tr>\n",
              "    <tr>\n",
              "      <th>127</th>\n",
              "      <td>Alexandre</td>\n",
              "      <td>60</td>\n",
              "      <td>Atenas</td>\n",
              "      <td>False</td>\n",
              "    </tr>\n",
              "  </tbody>\n",
              "</table>\n",
              "</div>"
            ],
            "text/plain": [
              "          nome  idade         cidade  comprou\n",
              "123        Ana     29      Amsterdam     True\n",
              "124  Guilherme     31         Velden    False\n",
              "125       João     21  Massachusetts    False\n",
              "126       Rosi     53        Londres     True\n",
              "127  Alexandre     60         Atenas    False"
            ]
          },
          "metadata": {
            "tags": []
          },
          "execution_count": 9
        }
      ]
    },
    {
      "cell_type": "code",
      "metadata": {
        "colab": {
          "base_uri": "https://localhost:8080/"
        },
        "id": "w-Hf-D9AkVh2",
        "outputId": "94428f31-e140-405f-8529-60d3acd0509c"
      },
      "source": [
        "#verificando dados de usuario\r\n",
        "df.loc[125]"
      ],
      "execution_count": 10,
      "outputs": [
        {
          "output_type": "execute_result",
          "data": {
            "text/plain": [
              "nome                João\n",
              "idade                 21\n",
              "cidade     Massachusetts\n",
              "comprou            False\n",
              "Name: 125, dtype: object"
            ]
          },
          "metadata": {
            "tags": []
          },
          "execution_count": 10
        }
      ]
    },
    {
      "cell_type": "markdown",
      "metadata": {
        "id": "G4yE1GfBkzqu"
      },
      "source": [
        "**DataFrame a partir de Listas**\r\n",
        "Para facilitar a conversão de listas para DF será usado **função built-in zip().**"
      ]
    },
    {
      "cell_type": "code",
      "metadata": {
        "id": "T4RUE33JlI4D"
      },
      "source": [
        "#listas\r\n",
        "dados =[['Ana', 29,'Amsterdam', 'True'],\r\n",
        "        ['Guilherme', 31, 'Velden', 'False'],\r\n",
        "        ['João', 21, 'Massachusetts','False'],\r\n",
        "        ['Rosi', 53,'Londres', 'True'],\r\n",
        "        ['Alexandre', 53, 'Atenas', 'False']]\r\n",
        "\r\n",
        "#Criando DataFrame\r\n",
        "df = pd.DataFrame(dados,columns=['nome','idade','cidade', 'comprou'],\r\n",
        "index=['a','b','c','d','e'])"
      ],
      "execution_count": 22,
      "outputs": []
    },
    {
      "cell_type": "code",
      "metadata": {
        "colab": {
          "base_uri": "https://localhost:8080/",
          "height": 195
        },
        "id": "wUCkeVL-kzHn",
        "outputId": "3a44811f-2c1e-41dc-ee44-c849fefd46bf"
      },
      "source": [
        "df"
      ],
      "execution_count": 23,
      "outputs": [
        {
          "output_type": "execute_result",
          "data": {
            "text/html": [
              "<div>\n",
              "<style scoped>\n",
              "    .dataframe tbody tr th:only-of-type {\n",
              "        vertical-align: middle;\n",
              "    }\n",
              "\n",
              "    .dataframe tbody tr th {\n",
              "        vertical-align: top;\n",
              "    }\n",
              "\n",
              "    .dataframe thead th {\n",
              "        text-align: right;\n",
              "    }\n",
              "</style>\n",
              "<table border=\"1\" class=\"dataframe\">\n",
              "  <thead>\n",
              "    <tr style=\"text-align: right;\">\n",
              "      <th></th>\n",
              "      <th>nome</th>\n",
              "      <th>idade</th>\n",
              "      <th>cidade</th>\n",
              "      <th>comprou</th>\n",
              "    </tr>\n",
              "  </thead>\n",
              "  <tbody>\n",
              "    <tr>\n",
              "      <th>a</th>\n",
              "      <td>Ana</td>\n",
              "      <td>29</td>\n",
              "      <td>Amsterdam</td>\n",
              "      <td>True</td>\n",
              "    </tr>\n",
              "    <tr>\n",
              "      <th>b</th>\n",
              "      <td>Guilherme</td>\n",
              "      <td>31</td>\n",
              "      <td>Velden</td>\n",
              "      <td>False</td>\n",
              "    </tr>\n",
              "    <tr>\n",
              "      <th>c</th>\n",
              "      <td>João</td>\n",
              "      <td>21</td>\n",
              "      <td>Massachusetts</td>\n",
              "      <td>False</td>\n",
              "    </tr>\n",
              "    <tr>\n",
              "      <th>d</th>\n",
              "      <td>Rosi</td>\n",
              "      <td>53</td>\n",
              "      <td>Londres</td>\n",
              "      <td>True</td>\n",
              "    </tr>\n",
              "    <tr>\n",
              "      <th>e</th>\n",
              "      <td>Alexandre</td>\n",
              "      <td>53</td>\n",
              "      <td>Atenas</td>\n",
              "      <td>False</td>\n",
              "    </tr>\n",
              "  </tbody>\n",
              "</table>\n",
              "</div>"
            ],
            "text/plain": [
              "        nome  idade         cidade comprou\n",
              "a        Ana     29      Amsterdam    True\n",
              "b  Guilherme     31         Velden   False\n",
              "c       João     21  Massachusetts   False\n",
              "d       Rosi     53        Londres    True\n",
              "e  Alexandre     53         Atenas   False"
            ]
          },
          "metadata": {
            "tags": []
          },
          "execution_count": 23
        }
      ]
    },
    {
      "cell_type": "code",
      "metadata": {
        "colab": {
          "base_uri": "https://localhost:8080/"
        },
        "id": "ENhwhoFVo0L2",
        "outputId": "f85b5786-e3f9-430a-b741-fcf61dd7ce42"
      },
      "source": [
        "#selecionando pelo index\r\n",
        "df.loc['a']"
      ],
      "execution_count": 25,
      "outputs": [
        {
          "output_type": "execute_result",
          "data": {
            "text/plain": [
              "nome             Ana\n",
              "idade             29\n",
              "cidade     Amsterdam\n",
              "comprou         True\n",
              "Name: a, dtype: object"
            ]
          },
          "metadata": {
            "tags": []
          },
          "execution_count": 25
        }
      ]
    },
    {
      "cell_type": "markdown",
      "metadata": {
        "id": "lDzg5Vs8pq9t"
      },
      "source": [
        "**CRIANDO NOVAS COLUNAS**\r\n"
      ]
    },
    {
      "cell_type": "code",
      "metadata": {
        "colab": {
          "base_uri": "https://localhost:8080/",
          "height": 195
        },
        "id": "-IWAnDAppuS-",
        "outputId": "9188d6e7-22f5-4b2a-a8cb-fc093ae82e0b"
      },
      "source": [
        "#Criando coluna de saldo\r\n",
        "df['saldo']=0.0\r\n",
        "df"
      ],
      "execution_count": 26,
      "outputs": [
        {
          "output_type": "execute_result",
          "data": {
            "text/html": [
              "<div>\n",
              "<style scoped>\n",
              "    .dataframe tbody tr th:only-of-type {\n",
              "        vertical-align: middle;\n",
              "    }\n",
              "\n",
              "    .dataframe tbody tr th {\n",
              "        vertical-align: top;\n",
              "    }\n",
              "\n",
              "    .dataframe thead th {\n",
              "        text-align: right;\n",
              "    }\n",
              "</style>\n",
              "<table border=\"1\" class=\"dataframe\">\n",
              "  <thead>\n",
              "    <tr style=\"text-align: right;\">\n",
              "      <th></th>\n",
              "      <th>nome</th>\n",
              "      <th>idade</th>\n",
              "      <th>cidade</th>\n",
              "      <th>comprou</th>\n",
              "      <th>saldo</th>\n",
              "    </tr>\n",
              "  </thead>\n",
              "  <tbody>\n",
              "    <tr>\n",
              "      <th>a</th>\n",
              "      <td>Ana</td>\n",
              "      <td>29</td>\n",
              "      <td>Amsterdam</td>\n",
              "      <td>True</td>\n",
              "      <td>0.0</td>\n",
              "    </tr>\n",
              "    <tr>\n",
              "      <th>b</th>\n",
              "      <td>Guilherme</td>\n",
              "      <td>31</td>\n",
              "      <td>Velden</td>\n",
              "      <td>False</td>\n",
              "      <td>0.0</td>\n",
              "    </tr>\n",
              "    <tr>\n",
              "      <th>c</th>\n",
              "      <td>João</td>\n",
              "      <td>21</td>\n",
              "      <td>Massachusetts</td>\n",
              "      <td>False</td>\n",
              "      <td>0.0</td>\n",
              "    </tr>\n",
              "    <tr>\n",
              "      <th>d</th>\n",
              "      <td>Rosi</td>\n",
              "      <td>53</td>\n",
              "      <td>Londres</td>\n",
              "      <td>True</td>\n",
              "      <td>0.0</td>\n",
              "    </tr>\n",
              "    <tr>\n",
              "      <th>e</th>\n",
              "      <td>Alexandre</td>\n",
              "      <td>53</td>\n",
              "      <td>Atenas</td>\n",
              "      <td>False</td>\n",
              "      <td>0.0</td>\n",
              "    </tr>\n",
              "  </tbody>\n",
              "</table>\n",
              "</div>"
            ],
            "text/plain": [
              "        nome  idade         cidade comprou  saldo\n",
              "a        Ana     29      Amsterdam    True    0.0\n",
              "b  Guilherme     31         Velden   False    0.0\n",
              "c       João     21  Massachusetts   False    0.0\n",
              "d       Rosi     53        Londres    True    0.0\n",
              "e  Alexandre     53         Atenas   False    0.0"
            ]
          },
          "metadata": {
            "tags": []
          },
          "execution_count": 26
        }
      ]
    },
    {
      "cell_type": "markdown",
      "metadata": {
        "id": "uqtV8n4jp69e"
      },
      "source": [
        "**MODIFICANDO INDEX E COLUNAS**\r\n"
      ]
    },
    {
      "cell_type": "code",
      "metadata": {
        "colab": {
          "base_uri": "https://localhost:8080/",
          "height": 195
        },
        "id": "vUU6ZaWVp_NO",
        "outputId": "d1653b44-b73d-4e1a-be69-8a51a3675638"
      },
      "source": [
        "df.index = ['A', 'B', 'C', 'D', 'E']\r\n",
        "df"
      ],
      "execution_count": 29,
      "outputs": [
        {
          "output_type": "execute_result",
          "data": {
            "text/html": [
              "<div>\n",
              "<style scoped>\n",
              "    .dataframe tbody tr th:only-of-type {\n",
              "        vertical-align: middle;\n",
              "    }\n",
              "\n",
              "    .dataframe tbody tr th {\n",
              "        vertical-align: top;\n",
              "    }\n",
              "\n",
              "    .dataframe thead th {\n",
              "        text-align: right;\n",
              "    }\n",
              "</style>\n",
              "<table border=\"1\" class=\"dataframe\">\n",
              "  <thead>\n",
              "    <tr style=\"text-align: right;\">\n",
              "      <th></th>\n",
              "      <th>nome</th>\n",
              "      <th>idade</th>\n",
              "      <th>cidade</th>\n",
              "      <th>comprou</th>\n",
              "      <th>saldo</th>\n",
              "    </tr>\n",
              "  </thead>\n",
              "  <tbody>\n",
              "    <tr>\n",
              "      <th>A</th>\n",
              "      <td>Ana</td>\n",
              "      <td>29</td>\n",
              "      <td>Amsterdam</td>\n",
              "      <td>True</td>\n",
              "      <td>0.0</td>\n",
              "    </tr>\n",
              "    <tr>\n",
              "      <th>B</th>\n",
              "      <td>Guilherme</td>\n",
              "      <td>31</td>\n",
              "      <td>Velden</td>\n",
              "      <td>False</td>\n",
              "      <td>0.0</td>\n",
              "    </tr>\n",
              "    <tr>\n",
              "      <th>C</th>\n",
              "      <td>João</td>\n",
              "      <td>21</td>\n",
              "      <td>Massachusetts</td>\n",
              "      <td>False</td>\n",
              "      <td>0.0</td>\n",
              "    </tr>\n",
              "    <tr>\n",
              "      <th>D</th>\n",
              "      <td>Rosi</td>\n",
              "      <td>53</td>\n",
              "      <td>Londres</td>\n",
              "      <td>True</td>\n",
              "      <td>0.0</td>\n",
              "    </tr>\n",
              "    <tr>\n",
              "      <th>E</th>\n",
              "      <td>Alexandre</td>\n",
              "      <td>53</td>\n",
              "      <td>Atenas</td>\n",
              "      <td>False</td>\n",
              "      <td>0.0</td>\n",
              "    </tr>\n",
              "  </tbody>\n",
              "</table>\n",
              "</div>"
            ],
            "text/plain": [
              "        nome  idade         cidade comprou  saldo\n",
              "A        Ana     29      Amsterdam    True    0.0\n",
              "B  Guilherme     31         Velden   False    0.0\n",
              "C       João     21  Massachusetts   False    0.0\n",
              "D       Rosi     53        Londres    True    0.0\n",
              "E  Alexandre     53         Atenas   False    0.0"
            ]
          },
          "metadata": {
            "tags": []
          },
          "execution_count": 29
        }
      ]
    },
    {
      "cell_type": "code",
      "metadata": {
        "colab": {
          "base_uri": "https://localhost:8080/",
          "height": 195
        },
        "id": "cfNW_nX4qV3Q",
        "outputId": "51a8fe26-8f35-4913-b2fc-5acbccfd371a"
      },
      "source": [
        "#Alterando colunas\r\n",
        "df.columns=['Nome', 'Idade', 'Cidade', 'Fez compras', 'Saldo da Loja']\r\n",
        "df\r\n"
      ],
      "execution_count": 32,
      "outputs": [
        {
          "output_type": "execute_result",
          "data": {
            "text/html": [
              "<div>\n",
              "<style scoped>\n",
              "    .dataframe tbody tr th:only-of-type {\n",
              "        vertical-align: middle;\n",
              "    }\n",
              "\n",
              "    .dataframe tbody tr th {\n",
              "        vertical-align: top;\n",
              "    }\n",
              "\n",
              "    .dataframe thead th {\n",
              "        text-align: right;\n",
              "    }\n",
              "</style>\n",
              "<table border=\"1\" class=\"dataframe\">\n",
              "  <thead>\n",
              "    <tr style=\"text-align: right;\">\n",
              "      <th></th>\n",
              "      <th>Nome</th>\n",
              "      <th>Idade</th>\n",
              "      <th>Cidade</th>\n",
              "      <th>Fez compras</th>\n",
              "      <th>Saldo da Loja</th>\n",
              "    </tr>\n",
              "  </thead>\n",
              "  <tbody>\n",
              "    <tr>\n",
              "      <th>A</th>\n",
              "      <td>Ana</td>\n",
              "      <td>29</td>\n",
              "      <td>Amsterdam</td>\n",
              "      <td>True</td>\n",
              "      <td>0.0</td>\n",
              "    </tr>\n",
              "    <tr>\n",
              "      <th>B</th>\n",
              "      <td>Guilherme</td>\n",
              "      <td>31</td>\n",
              "      <td>Velden</td>\n",
              "      <td>False</td>\n",
              "      <td>0.0</td>\n",
              "    </tr>\n",
              "    <tr>\n",
              "      <th>C</th>\n",
              "      <td>João</td>\n",
              "      <td>21</td>\n",
              "      <td>Massachusetts</td>\n",
              "      <td>False</td>\n",
              "      <td>0.0</td>\n",
              "    </tr>\n",
              "    <tr>\n",
              "      <th>D</th>\n",
              "      <td>Rosi</td>\n",
              "      <td>53</td>\n",
              "      <td>Londres</td>\n",
              "      <td>True</td>\n",
              "      <td>0.0</td>\n",
              "    </tr>\n",
              "    <tr>\n",
              "      <th>E</th>\n",
              "      <td>Alexandre</td>\n",
              "      <td>53</td>\n",
              "      <td>Atenas</td>\n",
              "      <td>False</td>\n",
              "      <td>0.0</td>\n",
              "    </tr>\n",
              "  </tbody>\n",
              "</table>\n",
              "</div>"
            ],
            "text/plain": [
              "        Nome  Idade         Cidade Fez compras  Saldo da Loja\n",
              "A        Ana     29      Amsterdam        True            0.0\n",
              "B  Guilherme     31         Velden       False            0.0\n",
              "C       João     21  Massachusetts       False            0.0\n",
              "D       Rosi     53        Londres        True            0.0\n",
              "E  Alexandre     53         Atenas       False            0.0"
            ]
          },
          "metadata": {
            "tags": []
          },
          "execution_count": 32
        }
      ]
    }
  ]
}