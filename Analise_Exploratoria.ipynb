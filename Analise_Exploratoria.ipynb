{
  "nbformat": 4,
  "nbformat_minor": 0,
  "metadata": {
    "colab": {
      "name": "Analise Exploratoria.ipynb",
      "provenance": [],
      "collapsed_sections": [],
      "authorship_tag": "ABX9TyM6HLHQ46jEtjD+CjQI8J94",
      "include_colab_link": true
    },
    "kernelspec": {
      "name": "python3",
      "display_name": "Python 3"
    }
  },
  "cells": [
    {
      "cell_type": "markdown",
      "metadata": {
        "id": "view-in-github",
        "colab_type": "text"
      },
      "source": [
        "<a href=\"https://colab.research.google.com/github/anapmdm/Intro-ao-Pandas/blob/main/Analise_Exploratoria.ipynb\" target=\"_parent\"><img src=\"https://colab.research.google.com/assets/colab-badge.svg\" alt=\"Open In Colab\"/></a>"
      ]
    },
    {
      "cell_type": "markdown",
      "metadata": {
        "id": "4V1F46XQXkA5"
      },
      "source": [
        "**Análise Exploratória**\r\n",
        "\r\n"
      ]
    },
    {
      "cell_type": "code",
      "metadata": {
        "colab": {
          "base_uri": "https://localhost:8080/",
          "height": 362
        },
        "id": "a3R0dYAgXRlZ",
        "outputId": "381723b9-1c0f-4429-cd74-419b8c6a5537"
      },
      "source": [
        "#importando pandas\r\n",
        "import pandas as pd\r\n",
        "\r\n",
        "#importando os dados e trocando coluna principal para indice\r\n",
        "df= pd.read_csv('https://raw.githubusercontent.com/carlosfab/dsnp2/master/datasets/ocorrencias_aviacao.csv' ,\r\n",
        "                index_col =\"codigo_ocorrencia\")\r\n",
        "df.head()"
      ],
      "execution_count": 7,
      "outputs": [
        {
          "output_type": "execute_result",
          "data": {
            "text/html": [
              "<div>\n",
              "<style scoped>\n",
              "    .dataframe tbody tr th:only-of-type {\n",
              "        vertical-align: middle;\n",
              "    }\n",
              "\n",
              "    .dataframe tbody tr th {\n",
              "        vertical-align: top;\n",
              "    }\n",
              "\n",
              "    .dataframe thead th {\n",
              "        text-align: right;\n",
              "    }\n",
              "</style>\n",
              "<table border=\"1\" class=\"dataframe\">\n",
              "  <thead>\n",
              "    <tr style=\"text-align: right;\">\n",
              "      <th></th>\n",
              "      <th>ocorrencia_classificacao</th>\n",
              "      <th>ocorrencia_tipo</th>\n",
              "      <th>ocorrencia_tipo_categoria</th>\n",
              "      <th>ocorrencia_tipo_icao</th>\n",
              "      <th>ocorrencia_latitude</th>\n",
              "      <th>ocorrencia_longitude</th>\n",
              "      <th>ocorrencia_cidade</th>\n",
              "      <th>ocorrencia_uf</th>\n",
              "      <th>ocorrencia_pais</th>\n",
              "      <th>ocorrencia_aerodromo</th>\n",
              "      <th>ocorrencia_dia</th>\n",
              "      <th>ocorrencia_horario</th>\n",
              "      <th>investigacao_aeronave_liberada</th>\n",
              "      <th>investigacao_status</th>\n",
              "      <th>divulgacao_relatorio_numero</th>\n",
              "      <th>divulgacao_relatorio_publicado</th>\n",
              "      <th>divulgacao_dia_publicacao</th>\n",
              "      <th>total_recomendacoes</th>\n",
              "      <th>total_aeronaves_envolvidas</th>\n",
              "      <th>ocorrencia_saida_pista</th>\n",
              "      <th>ocorrencia_dia_extracao</th>\n",
              "    </tr>\n",
              "    <tr>\n",
              "      <th>codigo_ocorrencia</th>\n",
              "      <th></th>\n",
              "      <th></th>\n",
              "      <th></th>\n",
              "      <th></th>\n",
              "      <th></th>\n",
              "      <th></th>\n",
              "      <th></th>\n",
              "      <th></th>\n",
              "      <th></th>\n",
              "      <th></th>\n",
              "      <th></th>\n",
              "      <th></th>\n",
              "      <th></th>\n",
              "      <th></th>\n",
              "      <th></th>\n",
              "      <th></th>\n",
              "      <th></th>\n",
              "      <th></th>\n",
              "      <th></th>\n",
              "      <th></th>\n",
              "      <th></th>\n",
              "    </tr>\n",
              "  </thead>\n",
              "  <tbody>\n",
              "    <tr>\n",
              "      <th>201305055424986</th>\n",
              "      <td>ACIDENTE</td>\n",
              "      <td>FALHA DO MOTOR EM VOO</td>\n",
              "      <td>FALHA OU MAU FUNCIONAMENTO DO MOTOR</td>\n",
              "      <td>SCF-PP</td>\n",
              "      <td>-9.9085</td>\n",
              "      <td>-63.0333</td>\n",
              "      <td>ARIQUEMES</td>\n",
              "      <td>RO</td>\n",
              "      <td>BRASIL</td>\n",
              "      <td>SJOG</td>\n",
              "      <td>2013-05-05</td>\n",
              "      <td>11:00:00</td>\n",
              "      <td>NaN</td>\n",
              "      <td>FINALIZADA</td>\n",
              "      <td>***</td>\n",
              "      <td>NÃO</td>\n",
              "      <td>NaN</td>\n",
              "      <td>0</td>\n",
              "      <td>1</td>\n",
              "      <td>NÃO</td>\n",
              "      <td>2018-08-28</td>\n",
              "    </tr>\n",
              "    <tr>\n",
              "      <th>201605160250139</th>\n",
              "      <td>INCIDENTE GRAVE</td>\n",
              "      <td>COLISÃO COM OBSTÁCULO DURANTE A DECOLAGEM E POUSO</td>\n",
              "      <td>COLISÃO COM OBSTÁCULO DURANTE A DECOLAGEM E POUSO</td>\n",
              "      <td>CTOL</td>\n",
              "      <td>-11.2644</td>\n",
              "      <td>-61.2589</td>\n",
              "      <td>CACOAL</td>\n",
              "      <td>RO</td>\n",
              "      <td>BRASIL</td>\n",
              "      <td>SSKW</td>\n",
              "      <td>2016-05-13</td>\n",
              "      <td>19:19:00</td>\n",
              "      <td>SIM</td>\n",
              "      <td>ATIVA</td>\n",
              "      <td>IG-084/CENIPA/2016</td>\n",
              "      <td>NÃO</td>\n",
              "      <td>NaN</td>\n",
              "      <td>0</td>\n",
              "      <td>1</td>\n",
              "      <td>NÃO</td>\n",
              "      <td>2018-08-28</td>\n",
              "    </tr>\n",
              "    <tr>\n",
              "      <th>201805021421302</th>\n",
              "      <td>INCIDENTE</td>\n",
              "      <td>AERÓDROMO</td>\n",
              "      <td>AERÓDROMO</td>\n",
              "      <td>ADRM</td>\n",
              "      <td>-11.4956</td>\n",
              "      <td>-61.4508</td>\n",
              "      <td>CACOAL</td>\n",
              "      <td>RO</td>\n",
              "      <td>BRASIL</td>\n",
              "      <td>SSKW</td>\n",
              "      <td>2018-03-09</td>\n",
              "      <td>22:40:00</td>\n",
              "      <td>SIM</td>\n",
              "      <td>FINALIZADA</td>\n",
              "      <td>***</td>\n",
              "      <td>NÃO</td>\n",
              "      <td>NaN</td>\n",
              "      <td>0</td>\n",
              "      <td>1</td>\n",
              "      <td>NÃO</td>\n",
              "      <td>2018-08-28</td>\n",
              "    </tr>\n",
              "    <tr>\n",
              "      <th>201311259977425</th>\n",
              "      <td>INCIDENTE GRAVE</td>\n",
              "      <td>POUSO SEM TREM</td>\n",
              "      <td>CONTATO ANORMAL COM A PISTA</td>\n",
              "      <td>ARC</td>\n",
              "      <td>-11.4956</td>\n",
              "      <td>-61.4508</td>\n",
              "      <td>CACOAL</td>\n",
              "      <td>RO</td>\n",
              "      <td>BRASIL</td>\n",
              "      <td>SSKW</td>\n",
              "      <td>2013-11-25</td>\n",
              "      <td>12:32:00</td>\n",
              "      <td>NaN</td>\n",
              "      <td>FINALIZADA</td>\n",
              "      <td>IG-209/CENIPA/2013</td>\n",
              "      <td>SIM</td>\n",
              "      <td>2014-04-07</td>\n",
              "      <td>0</td>\n",
              "      <td>1</td>\n",
              "      <td>NÃO</td>\n",
              "      <td>2018-08-28</td>\n",
              "    </tr>\n",
              "    <tr>\n",
              "      <th>201103187273112</th>\n",
              "      <td>INCIDENTE</td>\n",
              "      <td>OUTROS</td>\n",
              "      <td>OUTROS</td>\n",
              "      <td>OTHR</td>\n",
              "      <td>-13.1950</td>\n",
              "      <td>-60.8184</td>\n",
              "      <td>CEREJEIRAS</td>\n",
              "      <td>RO</td>\n",
              "      <td>BRASIL</td>\n",
              "      <td>****</td>\n",
              "      <td>2011-03-18</td>\n",
              "      <td>13:30:00</td>\n",
              "      <td>NaN</td>\n",
              "      <td>FINALIZADA</td>\n",
              "      <td>***</td>\n",
              "      <td>NÃO</td>\n",
              "      <td>NaN</td>\n",
              "      <td>0</td>\n",
              "      <td>1</td>\n",
              "      <td>NÃO</td>\n",
              "      <td>2018-08-28</td>\n",
              "    </tr>\n",
              "  </tbody>\n",
              "</table>\n",
              "</div>"
            ],
            "text/plain": [
              "                  ocorrencia_classificacao  ... ocorrencia_dia_extracao\n",
              "codigo_ocorrencia                           ...                        \n",
              "201305055424986                   ACIDENTE  ...              2018-08-28\n",
              "201605160250139            INCIDENTE GRAVE  ...              2018-08-28\n",
              "201805021421302                  INCIDENTE  ...              2018-08-28\n",
              "201311259977425            INCIDENTE GRAVE  ...              2018-08-28\n",
              "201103187273112                  INCIDENTE  ...              2018-08-28\n",
              "\n",
              "[5 rows x 21 columns]"
            ]
          },
          "metadata": {
            "tags": []
          },
          "execution_count": 7
        }
      ]
    },
    {
      "cell_type": "code",
      "metadata": {
        "colab": {
          "base_uri": "https://localhost:8080/"
        },
        "id": "x-n568RFaSfu",
        "outputId": "1675c662-6883-4a27-a4eb-8521c1a38ce1"
      },
      "source": [
        "#Ver resumo do df\r\n",
        "df.info()"
      ],
      "execution_count": 8,
      "outputs": [
        {
          "output_type": "stream",
          "text": [
            "<class 'pandas.core.frame.DataFrame'>\n",
            "Int64Index: 5208 entries, 201305055424986 to 201309012098180\n",
            "Data columns (total 21 columns):\n",
            " #   Column                          Non-Null Count  Dtype  \n",
            "---  ------                          --------------  -----  \n",
            " 0   ocorrencia_classificacao        5208 non-null   object \n",
            " 1   ocorrencia_tipo                 5208 non-null   object \n",
            " 2   ocorrencia_tipo_categoria       5208 non-null   object \n",
            " 3   ocorrencia_tipo_icao            5208 non-null   object \n",
            " 4   ocorrencia_latitude             5208 non-null   float64\n",
            " 5   ocorrencia_longitude            5208 non-null   float64\n",
            " 6   ocorrencia_cidade               5208 non-null   object \n",
            " 7   ocorrencia_uf                   5208 non-null   object \n",
            " 8   ocorrencia_pais                 5208 non-null   object \n",
            " 9   ocorrencia_aerodromo            5208 non-null   object \n",
            " 10  ocorrencia_dia                  5208 non-null   object \n",
            " 11  ocorrencia_horario              5208 non-null   object \n",
            " 12  investigacao_aeronave_liberada  1110 non-null   object \n",
            " 13  investigacao_status             5208 non-null   object \n",
            " 14  divulgacao_relatorio_numero     5208 non-null   object \n",
            " 15  divulgacao_relatorio_publicado  5208 non-null   object \n",
            " 16  divulgacao_dia_publicacao       1261 non-null   object \n",
            " 17  total_recomendacoes             5208 non-null   int64  \n",
            " 18  total_aeronaves_envolvidas      5208 non-null   int64  \n",
            " 19  ocorrencia_saida_pista          5208 non-null   object \n",
            " 20  ocorrencia_dia_extracao         5208 non-null   object \n",
            "dtypes: float64(2), int64(2), object(17)\n",
            "memory usage: 895.1+ KB\n"
          ],
          "name": "stdout"
        }
      ]
    },
    {
      "cell_type": "code",
      "metadata": {
        "colab": {
          "base_uri": "https://localhost:8080/"
        },
        "id": "vQIqnuT4al1V",
        "outputId": "70b98686-a929-4b92-e656-c27cbd030613"
      },
      "source": [
        "#para identificar apenas os tipos de variáveis\r\n",
        "df.dtypes"
      ],
      "execution_count": 12,
      "outputs": [
        {
          "output_type": "execute_result",
          "data": {
            "text/plain": [
              "ocorrencia_classificacao           object\n",
              "ocorrencia_tipo                    object\n",
              "ocorrencia_tipo_categoria          object\n",
              "ocorrencia_tipo_icao               object\n",
              "ocorrencia_latitude               float64\n",
              "ocorrencia_longitude              float64\n",
              "ocorrencia_cidade                  object\n",
              "ocorrencia_uf                      object\n",
              "ocorrencia_pais                    object\n",
              "ocorrencia_aerodromo               object\n",
              "ocorrencia_dia                     object\n",
              "ocorrencia_horario                 object\n",
              "investigacao_aeronave_liberada     object\n",
              "investigacao_status                object\n",
              "divulgacao_relatorio_numero        object\n",
              "divulgacao_relatorio_publicado     object\n",
              "divulgacao_dia_publicacao          object\n",
              "total_recomendacoes                 int64\n",
              "total_aeronaves_envolvidas          int64\n",
              "ocorrencia_saida_pista             object\n",
              "ocorrencia_dia_extracao            object\n",
              "dtype: object"
            ]
          },
          "metadata": {
            "tags": []
          },
          "execution_count": 12
        }
      ]
    },
    {
      "cell_type": "markdown",
      "metadata": {
        "id": "2fu7icBGa2B0"
      },
      "source": [
        "**Conferindo Valores Unicos**\r\n",
        "\r\n",
        "Para verificar os valores em uma coluna se usa o comando *unique()*."
      ]
    },
    {
      "cell_type": "code",
      "metadata": {
        "colab": {
          "base_uri": "https://localhost:8080/"
        },
        "id": "_HiCiD44bHis",
        "outputId": "9fa7a6c7-a5aa-456e-ce65-13578f80e42e"
      },
      "source": [
        "df.ocorrencia_classificacao.unique()"
      ],
      "execution_count": 13,
      "outputs": [
        {
          "output_type": "execute_result",
          "data": {
            "text/plain": [
              "array(['ACIDENTE', 'INCIDENTE GRAVE', 'INCIDENTE'], dtype=object)"
            ]
          },
          "metadata": {
            "tags": []
          },
          "execution_count": 13
        }
      ]
    },
    {
      "cell_type": "code",
      "metadata": {
        "colab": {
          "base_uri": "https://localhost:8080/"
        },
        "id": "FHkyhZ6SbTOs",
        "outputId": "da6f9ffb-3b79-4106-89a7-fda8a95ee30e"
      },
      "source": [
        "df.ocorrencia_tipo.unique()"
      ],
      "execution_count": 14,
      "outputs": [
        {
          "output_type": "execute_result",
          "data": {
            "text/plain": [
              "array(['FALHA DO MOTOR EM VOO',\n",
              "       'COLISÃO COM OBSTÁCULO DURANTE A DECOLAGEM E POUSO', 'AERÓDROMO',\n",
              "       'POUSO SEM TREM', 'OUTROS', 'PERDA DE CONTROLE NO SOLO',\n",
              "       'POUSO LONGO', 'TRÁFEGO AÉREO', 'PERDA DE CONTROLE EM VOO',\n",
              "       'COM TREM DE POUSO', 'INDETERMINADO', 'ESTOURO DE PNEU',\n",
              "       'VOO CONTROLADO CONTRA O TERRENO', 'EXCURSÃO DE PISTA',\n",
              "       'POUSO BRUSCO', 'CAUSADO POR FENÔMENO METEOROLÓGICO EM VOO',\n",
              "       'INCURSÃO EM PISTA', 'VAZAMENTO DE OUTROS FLUIDOS', 'COM ROTOR',\n",
              "       'FALHA OU MAU FUNCIONAMENTO DE SISTEMA / COMPONENTE ',\n",
              "       'PERDA DE COMPONENTE EM VOO', 'SOPRO DE REATOR',\n",
              "       'COM PARA-BRISAS / JANELA / PORTA', 'COM LANÇAMENTO DE CARGA',\n",
              "       'POUSO ANTES DA PISTA', 'F.O.D.', 'PROBLEMAS FISIOLÓGICOS',\n",
              "       'DESCOMPRESSÃO NÃO INTENCIONAL / EXPLOSIVA',\n",
              "       'COLISÃO DE VEÍCULO COM AERONAVE', 'FOGO NO SOLO', 'FOGO EM VOO',\n",
              "       'CAUSADO POR FENÔMENO METEOROLÓGICO NO SOLO', 'COM PESSOAL EM VOO',\n",
              "       'COLISÃO DE AERONAVES EM VOO', 'FUMAÇA NA CABINE',\n",
              "       'COLISÃO COM OBSTÁCULOS NO SOLO', 'PERDA DE COMPONENTE NO SOLO',\n",
              "       'SOPRO DE ROTOR', 'FALHA DO MOTOR NO SOLO', 'SUPERAQUECIMENTO',\n",
              "       'COM COMANDOS DE VOO', 'FALHA ESTRUTURAL',\n",
              "       'POUSO EM LOCAL NÃO PREVISTO', 'DESORIENTAÇÃO ESPACIAL',\n",
              "       'VAZAMENTO DE COMBUSTÍVEL', 'PANE SECA',\n",
              "       'COLISÃO COM AERONAVE NO SOLO', 'CORTE INVOLUNTÁRIO DO MOTOR',\n",
              "       'TURBULÊNCIA', 'OPERAÇÃO A BAIXA ALTITUDE', 'COM HÉLICE',\n",
              "       'COM LANÇAMENTO DE PESSOAS', 'COLISÃO EM VOO COM OBJETO REBOCADO',\n",
              "       'AERONAVE ATINGIDA POR OBJETO',\n",
              "       'FALHA OU MAU FUNCIONAMENTO DO MOTOR',\n",
              "       'CONTATO ANORMAL COM A PISTA ', 'CORTANTE DE VENTO / TEMPESTADE',\n",
              "       'OPERAÇÕES NO SOLO', 'CAUSADO POR RICOCHETE',\n",
              "       'RELACIONADO COM SECURITY', 'PERDA DA CONSCIÊNCIA',\n",
              "       'ALARME FALSO DE FOGO OU DE SUPERAQUECIMENTO', 'MANOBRA ABRUPTA'],\n",
              "      dtype=object)"
            ]
          },
          "metadata": {
            "tags": []
          },
          "execution_count": 14
        }
      ]
    },
    {
      "cell_type": "markdown",
      "metadata": {
        "id": "NXLG_J5YbiFg"
      },
      "source": [
        "Para saber a ocorrencia dos valores usamos o comando *value_counts()*."
      ]
    },
    {
      "cell_type": "code",
      "metadata": {
        "colab": {
          "base_uri": "https://localhost:8080/"
        },
        "id": "qKu-JbLgbzos",
        "outputId": "fe0e7993-9474-4cc4-9828-1277933ff918"
      },
      "source": [
        "df.ocorrencia_tipo.value_counts()"
      ],
      "execution_count": 15,
      "outputs": [
        {
          "output_type": "execute_result",
          "data": {
            "text/plain": [
              "FALHA DO MOTOR EM VOO                                  682\n",
              "ESTOURO DE PNEU                                        604\n",
              "FALHA OU MAU FUNCIONAMENTO DE SISTEMA / COMPONENTE     574\n",
              "PERDA DE CONTROLE NO SOLO                              492\n",
              "OUTROS                                                 350\n",
              "                                                      ... \n",
              "PERDA DA CONSCIÊNCIA                                     1\n",
              "CORTANTE DE VENTO / TEMPESTADE                           1\n",
              "RELACIONADO COM SECURITY                                 1\n",
              "ALARME FALSO DE FOGO OU DE SUPERAQUECIMENTO              1\n",
              "CAUSADO POR RICOCHETE                                    1\n",
              "Name: ocorrencia_tipo, Length: 63, dtype: int64"
            ]
          },
          "metadata": {
            "tags": []
          },
          "execution_count": 15
        }
      ]
    },
    {
      "cell_type": "markdown",
      "metadata": {
        "id": "A0ZvEhTAdPpV"
      },
      "source": [
        "Para determinar o percentual basta dividir os valores pela quantidade total de linhas no conjunto de dados. A quantidade de linhas é obtida pelo comando *df.shape[0]*."
      ]
    },
    {
      "cell_type": "code",
      "metadata": {
        "colab": {
          "base_uri": "https://localhost:8080/"
        },
        "id": "WOq-APE1eP6d",
        "outputId": "226110a6-3fc1-4088-8429-62cd533634aa"
      },
      "source": [
        "df.shape[0]"
      ],
      "execution_count": 16,
      "outputs": [
        {
          "output_type": "execute_result",
          "data": {
            "text/plain": [
              "5208"
            ]
          },
          "metadata": {
            "tags": []
          },
          "execution_count": 16
        }
      ]
    },
    {
      "cell_type": "code",
      "metadata": {
        "colab": {
          "base_uri": "https://localhost:8080/"
        },
        "id": "SyLCYyO0eUxO",
        "outputId": "fe30b9ab-f711-4238-e9d0-df436cec5106"
      },
      "source": [
        "df.ocorrencia_tipo.value_counts()/df.shape[0] * 100"
      ],
      "execution_count": 20,
      "outputs": [
        {
          "output_type": "execute_result",
          "data": {
            "text/plain": [
              "FALHA DO MOTOR EM VOO                                  13.095238\n",
              "ESTOURO DE PNEU                                        11.597542\n",
              "FALHA OU MAU FUNCIONAMENTO DE SISTEMA / COMPONENTE     11.021505\n",
              "PERDA DE CONTROLE NO SOLO                               9.447005\n",
              "OUTROS                                                  6.720430\n",
              "                                                         ...    \n",
              "PERDA DA CONSCIÊNCIA                                    0.019201\n",
              "CORTANTE DE VENTO / TEMPESTADE                          0.019201\n",
              "RELACIONADO COM SECURITY                                0.019201\n",
              "ALARME FALSO DE FOGO OU DE SUPERAQUECIMENTO             0.019201\n",
              "CAUSADO POR RICOCHETE                                   0.019201\n",
              "Name: ocorrencia_tipo, Length: 63, dtype: float64"
            ]
          },
          "metadata": {
            "tags": []
          },
          "execution_count": 20
        }
      ]
    },
    {
      "cell_type": "markdown",
      "metadata": {
        "id": "UK_3hHcTfkOT"
      },
      "source": [
        "**Filtrando valores**\r\n",
        "\r\n",
        "Existem 2 métodos.\r\n",
        "\r\n",
        "\r\n",
        "**Loc**\r\n",
        "\r\n",
        "Para usar esta opção, você deve entender que o mesmo funciona da seguinte maneira:\r\n",
        "\r\n",
        "*loc[<linhas>, <colunas>]*\r\n",
        "\r\n",
        "Este método pode ser usado em duas situações:\r\n",
        "\r\n",
        "Selecionar linhas por labels/index\r\n",
        "Selecionar linhas baseado em um array booleano"
      ]
    },
    {
      "cell_type": "code",
      "metadata": {
        "colab": {
          "base_uri": "https://localhost:8080/"
        },
        "id": "QzsgViBaf4Cq",
        "outputId": "0809e6b1-6d2c-4b84-c9bf-f446e6679353"
      },
      "source": [
        "#exemplo para filtragem de dados usando loc\r\n",
        "#gostaria de saber dados do código 201805021421302\t\r\n",
        "df.loc[201805021421302]\r\n"
      ],
      "execution_count": 21,
      "outputs": [
        {
          "output_type": "execute_result",
          "data": {
            "text/plain": [
              "ocorrencia_classificacao           INCIDENTE\n",
              "ocorrencia_tipo                    AERÓDROMO\n",
              "ocorrencia_tipo_categoria          AERÓDROMO\n",
              "ocorrencia_tipo_icao                    ADRM\n",
              "ocorrencia_latitude                 -11.4956\n",
              "ocorrencia_longitude                -61.4508\n",
              "ocorrencia_cidade                     CACOAL\n",
              "ocorrencia_uf                             RO\n",
              "ocorrencia_pais                       BRASIL\n",
              "ocorrencia_aerodromo                    SSKW\n",
              "ocorrencia_dia                    2018-03-09\n",
              "ocorrencia_horario                  22:40:00\n",
              "investigacao_aeronave_liberada           SIM\n",
              "investigacao_status               FINALIZADA\n",
              "divulgacao_relatorio_numero              ***\n",
              "divulgacao_relatorio_publicado           NÃO\n",
              "divulgacao_dia_publicacao                NaN\n",
              "total_recomendacoes                        0\n",
              "total_aeronaves_envolvidas                 1\n",
              "ocorrencia_saida_pista                   NÃO\n",
              "ocorrencia_dia_extracao           2018-08-28\n",
              "Name: 201805021421302, dtype: object"
            ]
          },
          "metadata": {
            "tags": []
          },
          "execution_count": 21
        }
      ]
    },
    {
      "cell_type": "code",
      "metadata": {
        "colab": {
          "base_uri": "https://localhost:8080/"
        },
        "id": "8ugVd_VbgcwL",
        "outputId": "0809e6b1-6d2c-4b84-c9bf-f446e6679353"
      },
      "source": [
        "#exemplo para filtragem de dados usando loc\r\n",
        "#gostaria de saber dados do código 201805021421302\t\r\n",
        "df.loc[201805021421302]\r\n"
      ],
      "execution_count": null,
      "outputs": [
        {
          "output_type": "execute_result",
          "data": {
            "text/plain": [
              "ocorrencia_classificacao           INCIDENTE\n",
              "ocorrencia_tipo                    AERÓDROMO\n",
              "ocorrencia_tipo_categoria          AERÓDROMO\n",
              "ocorrencia_tipo_icao                    ADRM\n",
              "ocorrencia_latitude                 -11.4956\n",
              "ocorrencia_longitude                -61.4508\n",
              "ocorrencia_cidade                     CACOAL\n",
              "ocorrencia_uf                             RO\n",
              "ocorrencia_pais                       BRASIL\n",
              "ocorrencia_aerodromo                    SSKW\n",
              "ocorrencia_dia                    2018-03-09\n",
              "ocorrencia_horario                  22:40:00\n",
              "investigacao_aeronave_liberada           SIM\n",
              "investigacao_status               FINALIZADA\n",
              "divulgacao_relatorio_numero              ***\n",
              "divulgacao_relatorio_publicado           NÃO\n",
              "divulgacao_dia_publicacao                NaN\n",
              "total_recomendacoes                        0\n",
              "total_aeronaves_envolvidas                 1\n",
              "ocorrencia_saida_pista                   NÃO\n",
              "ocorrencia_dia_extracao           2018-08-28\n",
              "Name: 201805021421302, dtype: object"
            ]
          },
          "metadata": {
            "tags": []
          },
          "execution_count": 21
        }
      ]
    },
    {
      "cell_type": "code",
      "metadata": {
        "colab": {
          "base_uri": "https://localhost:8080/"
        },
        "id": "2Pif-ve6gRGz",
        "outputId": "bc2044eb-8c59-4094-98d0-f8bd635c71b9"
      },
      "source": [
        "#caso eu queira saber somente dados especificos para determinado código\r\n",
        "df.loc[201805021421302, ['ocorrencia_cidade', 'ocorrencia_latitude', 'ocorrencia_longitude']]"
      ],
      "execution_count": 23,
      "outputs": [
        {
          "output_type": "execute_result",
          "data": {
            "text/plain": [
              "ocorrencia_cidade        CACOAL\n",
              "ocorrencia_latitude    -11.4956\n",
              "ocorrencia_longitude   -61.4508\n",
              "Name: 201805021421302, dtype: object"
            ]
          },
          "metadata": {
            "tags": []
          },
          "execution_count": 23
        }
      ]
    },
    {
      "cell_type": "code",
      "metadata": {
        "colab": {
          "base_uri": "https://localhost:8080/",
          "height": 413
        },
        "id": "Qq-g7IREhiAZ",
        "outputId": "8e04f60a-3380-4f18-8fe9-30081feb5473"
      },
      "source": [
        "#verificando somente ocorrencias onde existiu falha no motor\r\n",
        "df.loc[df['ocorrencia_tipo'] == 'FALHA DO MOTOR EM VOO'].head()"
      ],
      "execution_count": 24,
      "outputs": [
        {
          "output_type": "execute_result",
          "data": {
            "text/html": [
              "<div>\n",
              "<style scoped>\n",
              "    .dataframe tbody tr th:only-of-type {\n",
              "        vertical-align: middle;\n",
              "    }\n",
              "\n",
              "    .dataframe tbody tr th {\n",
              "        vertical-align: top;\n",
              "    }\n",
              "\n",
              "    .dataframe thead th {\n",
              "        text-align: right;\n",
              "    }\n",
              "</style>\n",
              "<table border=\"1\" class=\"dataframe\">\n",
              "  <thead>\n",
              "    <tr style=\"text-align: right;\">\n",
              "      <th></th>\n",
              "      <th>ocorrencia_classificacao</th>\n",
              "      <th>ocorrencia_tipo</th>\n",
              "      <th>ocorrencia_tipo_categoria</th>\n",
              "      <th>ocorrencia_tipo_icao</th>\n",
              "      <th>ocorrencia_latitude</th>\n",
              "      <th>ocorrencia_longitude</th>\n",
              "      <th>ocorrencia_cidade</th>\n",
              "      <th>ocorrencia_uf</th>\n",
              "      <th>ocorrencia_pais</th>\n",
              "      <th>ocorrencia_aerodromo</th>\n",
              "      <th>ocorrencia_dia</th>\n",
              "      <th>ocorrencia_horario</th>\n",
              "      <th>investigacao_aeronave_liberada</th>\n",
              "      <th>investigacao_status</th>\n",
              "      <th>divulgacao_relatorio_numero</th>\n",
              "      <th>divulgacao_relatorio_publicado</th>\n",
              "      <th>divulgacao_dia_publicacao</th>\n",
              "      <th>total_recomendacoes</th>\n",
              "      <th>total_aeronaves_envolvidas</th>\n",
              "      <th>ocorrencia_saida_pista</th>\n",
              "      <th>ocorrencia_dia_extracao</th>\n",
              "    </tr>\n",
              "    <tr>\n",
              "      <th>codigo_ocorrencia</th>\n",
              "      <th></th>\n",
              "      <th></th>\n",
              "      <th></th>\n",
              "      <th></th>\n",
              "      <th></th>\n",
              "      <th></th>\n",
              "      <th></th>\n",
              "      <th></th>\n",
              "      <th></th>\n",
              "      <th></th>\n",
              "      <th></th>\n",
              "      <th></th>\n",
              "      <th></th>\n",
              "      <th></th>\n",
              "      <th></th>\n",
              "      <th></th>\n",
              "      <th></th>\n",
              "      <th></th>\n",
              "      <th></th>\n",
              "      <th></th>\n",
              "      <th></th>\n",
              "    </tr>\n",
              "  </thead>\n",
              "  <tbody>\n",
              "    <tr>\n",
              "      <th>201305055424986</th>\n",
              "      <td>ACIDENTE</td>\n",
              "      <td>FALHA DO MOTOR EM VOO</td>\n",
              "      <td>FALHA OU MAU FUNCIONAMENTO DO MOTOR</td>\n",
              "      <td>SCF-PP</td>\n",
              "      <td>-9.9085</td>\n",
              "      <td>-63.0333</td>\n",
              "      <td>ARIQUEMES</td>\n",
              "      <td>RO</td>\n",
              "      <td>BRASIL</td>\n",
              "      <td>SJOG</td>\n",
              "      <td>2013-05-05</td>\n",
              "      <td>11:00:00</td>\n",
              "      <td>NaN</td>\n",
              "      <td>FINALIZADA</td>\n",
              "      <td>***</td>\n",
              "      <td>NÃO</td>\n",
              "      <td>NaN</td>\n",
              "      <td>0</td>\n",
              "      <td>1</td>\n",
              "      <td>NÃO</td>\n",
              "      <td>2018-08-28</td>\n",
              "    </tr>\n",
              "    <tr>\n",
              "      <th>201211159478138</th>\n",
              "      <td>ACIDENTE</td>\n",
              "      <td>FALHA DO MOTOR EM VOO</td>\n",
              "      <td>FALHA OU MAU FUNCIONAMENTO DO MOTOR</td>\n",
              "      <td>SCF-PP</td>\n",
              "      <td>-16.7588</td>\n",
              "      <td>-49.4405</td>\n",
              "      <td>ABADIA DE GOIÁS</td>\n",
              "      <td>GO</td>\n",
              "      <td>BRASIL</td>\n",
              "      <td>****</td>\n",
              "      <td>2012-11-15</td>\n",
              "      <td>12:40:00</td>\n",
              "      <td>NaN</td>\n",
              "      <td>FINALIZADA</td>\n",
              "      <td>***</td>\n",
              "      <td>NÃO</td>\n",
              "      <td>NaN</td>\n",
              "      <td>0</td>\n",
              "      <td>1</td>\n",
              "      <td>NÃO</td>\n",
              "      <td>2018-08-28</td>\n",
              "    </tr>\n",
              "    <tr>\n",
              "      <th>200811167138358</th>\n",
              "      <td>ACIDENTE</td>\n",
              "      <td>FALHA DO MOTOR EM VOO</td>\n",
              "      <td>FALHA OU MAU FUNCIONAMENTO DO MOTOR</td>\n",
              "      <td>SCF-PP</td>\n",
              "      <td>2.8100</td>\n",
              "      <td>-61.3831</td>\n",
              "      <td>ALTO ALEGRE</td>\n",
              "      <td>RR</td>\n",
              "      <td>BRASIL</td>\n",
              "      <td>****</td>\n",
              "      <td>2008-11-16</td>\n",
              "      <td>12:25:00</td>\n",
              "      <td>NaN</td>\n",
              "      <td>FINALIZADA</td>\n",
              "      <td>A-566/CENIPA/2015</td>\n",
              "      <td>SIM</td>\n",
              "      <td>2016-03-18</td>\n",
              "      <td>3</td>\n",
              "      <td>1</td>\n",
              "      <td>NÃO</td>\n",
              "      <td>2018-08-28</td>\n",
              "    </tr>\n",
              "    <tr>\n",
              "      <th>201111224132085</th>\n",
              "      <td>ACIDENTE</td>\n",
              "      <td>FALHA DO MOTOR EM VOO</td>\n",
              "      <td>FALHA OU MAU FUNCIONAMENTO DO MOTOR</td>\n",
              "      <td>SCF-PP</td>\n",
              "      <td>0.7394</td>\n",
              "      <td>-62.0214</td>\n",
              "      <td>ALTO ALEGRE</td>\n",
              "      <td>RR</td>\n",
              "      <td>BRASIL</td>\n",
              "      <td>****</td>\n",
              "      <td>2011-11-22</td>\n",
              "      <td>16:40:00</td>\n",
              "      <td>NaN</td>\n",
              "      <td>FINALIZADA</td>\n",
              "      <td>A-038/CENIPA/2013</td>\n",
              "      <td>SIM</td>\n",
              "      <td>2013-08-22</td>\n",
              "      <td>2</td>\n",
              "      <td>1</td>\n",
              "      <td>NÃO</td>\n",
              "      <td>2018-08-28</td>\n",
              "    </tr>\n",
              "    <tr>\n",
              "      <th>201509183338691</th>\n",
              "      <td>ACIDENTE</td>\n",
              "      <td>FALHA DO MOTOR EM VOO</td>\n",
              "      <td>FALHA OU MAU FUNCIONAMENTO DO MOTOR</td>\n",
              "      <td>SCF-PP</td>\n",
              "      <td>-23.0061</td>\n",
              "      <td>-44.3025</td>\n",
              "      <td>ANGRA DOS REIS</td>\n",
              "      <td>RJ</td>\n",
              "      <td>BRASIL</td>\n",
              "      <td>****</td>\n",
              "      <td>2015-09-18</td>\n",
              "      <td>13:30:00</td>\n",
              "      <td>NaN</td>\n",
              "      <td>FINALIZADA</td>\n",
              "      <td>***</td>\n",
              "      <td>NÃO</td>\n",
              "      <td>NaN</td>\n",
              "      <td>0</td>\n",
              "      <td>1</td>\n",
              "      <td>NÃO</td>\n",
              "      <td>2018-08-28</td>\n",
              "    </tr>\n",
              "  </tbody>\n",
              "</table>\n",
              "</div>"
            ],
            "text/plain": [
              "                  ocorrencia_classificacao  ... ocorrencia_dia_extracao\n",
              "codigo_ocorrencia                           ...                        \n",
              "201305055424986                   ACIDENTE  ...              2018-08-28\n",
              "201211159478138                   ACIDENTE  ...              2018-08-28\n",
              "200811167138358                   ACIDENTE  ...              2018-08-28\n",
              "201111224132085                   ACIDENTE  ...              2018-08-28\n",
              "201509183338691                   ACIDENTE  ...              2018-08-28\n",
              "\n",
              "[5 rows x 21 columns]"
            ]
          },
          "metadata": {
            "tags": []
          },
          "execution_count": 24
        }
      ]
    },
    {
      "cell_type": "markdown",
      "metadata": {
        "id": "DoqiEvaXiMmi"
      },
      "source": [
        "**Iloc**\r\n",
        "\r\n",
        "Comando mais simples pois é possivel selecionar linhas e colunas apenas indicando a numeração.\r\n"
      ]
    },
    {
      "cell_type": "code",
      "metadata": {
        "colab": {
          "base_uri": "https://localhost:8080/",
          "height": 225
        },
        "id": "NmMb9HpWiUvw",
        "outputId": "cb3c7995-2f8d-4086-9fe5-b0aa1fce15a8"
      },
      "source": [
        "#Selecionando as 5 primeiras linhas com as 3 primeiras colunas\r\n",
        "df.iloc[:5, :3]"
      ],
      "execution_count": 25,
      "outputs": [
        {
          "output_type": "execute_result",
          "data": {
            "text/html": [
              "<div>\n",
              "<style scoped>\n",
              "    .dataframe tbody tr th:only-of-type {\n",
              "        vertical-align: middle;\n",
              "    }\n",
              "\n",
              "    .dataframe tbody tr th {\n",
              "        vertical-align: top;\n",
              "    }\n",
              "\n",
              "    .dataframe thead th {\n",
              "        text-align: right;\n",
              "    }\n",
              "</style>\n",
              "<table border=\"1\" class=\"dataframe\">\n",
              "  <thead>\n",
              "    <tr style=\"text-align: right;\">\n",
              "      <th></th>\n",
              "      <th>ocorrencia_classificacao</th>\n",
              "      <th>ocorrencia_tipo</th>\n",
              "      <th>ocorrencia_tipo_categoria</th>\n",
              "    </tr>\n",
              "    <tr>\n",
              "      <th>codigo_ocorrencia</th>\n",
              "      <th></th>\n",
              "      <th></th>\n",
              "      <th></th>\n",
              "    </tr>\n",
              "  </thead>\n",
              "  <tbody>\n",
              "    <tr>\n",
              "      <th>201305055424986</th>\n",
              "      <td>ACIDENTE</td>\n",
              "      <td>FALHA DO MOTOR EM VOO</td>\n",
              "      <td>FALHA OU MAU FUNCIONAMENTO DO MOTOR</td>\n",
              "    </tr>\n",
              "    <tr>\n",
              "      <th>201605160250139</th>\n",
              "      <td>INCIDENTE GRAVE</td>\n",
              "      <td>COLISÃO COM OBSTÁCULO DURANTE A DECOLAGEM E POUSO</td>\n",
              "      <td>COLISÃO COM OBSTÁCULO DURANTE A DECOLAGEM E POUSO</td>\n",
              "    </tr>\n",
              "    <tr>\n",
              "      <th>201805021421302</th>\n",
              "      <td>INCIDENTE</td>\n",
              "      <td>AERÓDROMO</td>\n",
              "      <td>AERÓDROMO</td>\n",
              "    </tr>\n",
              "    <tr>\n",
              "      <th>201311259977425</th>\n",
              "      <td>INCIDENTE GRAVE</td>\n",
              "      <td>POUSO SEM TREM</td>\n",
              "      <td>CONTATO ANORMAL COM A PISTA</td>\n",
              "    </tr>\n",
              "    <tr>\n",
              "      <th>201103187273112</th>\n",
              "      <td>INCIDENTE</td>\n",
              "      <td>OUTROS</td>\n",
              "      <td>OUTROS</td>\n",
              "    </tr>\n",
              "  </tbody>\n",
              "</table>\n",
              "</div>"
            ],
            "text/plain": [
              "                  ocorrencia_classificacao  ...                          ocorrencia_tipo_categoria\n",
              "codigo_ocorrencia                           ...                                                   \n",
              "201305055424986                   ACIDENTE  ...                FALHA OU MAU FUNCIONAMENTO DO MOTOR\n",
              "201605160250139            INCIDENTE GRAVE  ...  COLISÃO COM OBSTÁCULO DURANTE A DECOLAGEM E POUSO\n",
              "201805021421302                  INCIDENTE  ...                                          AERÓDROMO\n",
              "201311259977425            INCIDENTE GRAVE  ...                        CONTATO ANORMAL COM A PISTA\n",
              "201103187273112                  INCIDENTE  ...                                             OUTROS\n",
              "\n",
              "[5 rows x 3 columns]"
            ]
          },
          "metadata": {
            "tags": []
          },
          "execution_count": 25
        }
      ]
    }
  ]
}