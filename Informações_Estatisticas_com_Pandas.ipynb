{
  "nbformat": 4,
  "nbformat_minor": 0,
  "metadata": {
    "colab": {
      "name": "Informações Estatisticas com Pandas",
      "provenance": [],
      "collapsed_sections": [],
      "authorship_tag": "ABX9TyNueBFEfLkvVprAxoAKZ7UF",
      "include_colab_link": true
    },
    "kernelspec": {
      "name": "python3",
      "display_name": "Python 3"
    }
  },
  "cells": [
    {
      "cell_type": "markdown",
      "metadata": {
        "id": "view-in-github",
        "colab_type": "text"
      },
      "source": [
        "<a href=\"https://colab.research.google.com/github/anapmdm/Intro-ao-Pandas/blob/main/Informa%C3%A7%C3%B5es_Estatisticas_com_Pandas.ipynb\" target=\"_parent\"><img src=\"https://colab.research.google.com/assets/colab-badge.svg\" alt=\"Open In Colab\"/></a>"
      ]
    },
    {
      "cell_type": "markdown",
      "metadata": {
        "id": "GSPwm7DqBZJA"
      },
      "source": [
        "**Informações Estatisticas com Pandas**\r\n"
      ]
    },
    {
      "cell_type": "code",
      "metadata": {
        "colab": {
          "base_uri": "https://localhost:8080/",
          "height": 195
        },
        "id": "nDLwoCV-BYe_",
        "outputId": "5907a795-69e4-4321-8a17-26629dda4838"
      },
      "source": [
        "#importando pandas\r\n",
        "import pandas as pd\r\n",
        "\r\n",
        "#importando o df\r\n",
        "df= pd.read_csv('http://dl.dropboxusercontent.com/s/yyfeoxqw61o3iel/df_rides.csv')\r\n",
        "df.head()"
      ],
      "execution_count": 3,
      "outputs": [
        {
          "output_type": "execute_result",
          "data": {
            "text/html": [
              "<div>\n",
              "<style scoped>\n",
              "    .dataframe tbody tr th:only-of-type {\n",
              "        vertical-align: middle;\n",
              "    }\n",
              "\n",
              "    .dataframe tbody tr th {\n",
              "        vertical-align: top;\n",
              "    }\n",
              "\n",
              "    .dataframe thead th {\n",
              "        text-align: right;\n",
              "    }\n",
              "</style>\n",
              "<table border=\"1\" class=\"dataframe\">\n",
              "  <thead>\n",
              "    <tr style=\"text-align: right;\">\n",
              "      <th></th>\n",
              "      <th>user_gender</th>\n",
              "      <th>user_birthdate</th>\n",
              "      <th>user_residence</th>\n",
              "      <th>ride_date</th>\n",
              "      <th>time_start</th>\n",
              "      <th>time_end</th>\n",
              "      <th>station_start</th>\n",
              "      <th>station_end</th>\n",
              "      <th>ride_duration</th>\n",
              "      <th>ride_late</th>\n",
              "    </tr>\n",
              "  </thead>\n",
              "  <tbody>\n",
              "    <tr>\n",
              "      <th>0</th>\n",
              "      <td>M</td>\n",
              "      <td>1971-06-08</td>\n",
              "      <td>NaN</td>\n",
              "      <td>2018-01-01</td>\n",
              "      <td>06:05:18</td>\n",
              "      <td>06:21:33</td>\n",
              "      <td>11 - Rodoviária 2</td>\n",
              "      <td>41 - Instituto de Artes</td>\n",
              "      <td>16.250000</td>\n",
              "      <td>0.0</td>\n",
              "    </tr>\n",
              "    <tr>\n",
              "      <th>1</th>\n",
              "      <td>M</td>\n",
              "      <td>1989-02-11</td>\n",
              "      <td>DF</td>\n",
              "      <td>2018-01-01</td>\n",
              "      <td>06:27:01</td>\n",
              "      <td>06:32:17</td>\n",
              "      <td>26 - Ministério da Saude</td>\n",
              "      <td>28 - CNMP - Conselho Nacional do Ministério Pú...</td>\n",
              "      <td>5.266667</td>\n",
              "      <td>0.0</td>\n",
              "    </tr>\n",
              "    <tr>\n",
              "      <th>2</th>\n",
              "      <td>M</td>\n",
              "      <td>1968-07-19</td>\n",
              "      <td>NaN</td>\n",
              "      <td>2018-01-01</td>\n",
              "      <td>06:29:33</td>\n",
              "      <td>06:44:57</td>\n",
              "      <td>11 - Rodoviária 2</td>\n",
              "      <td>43 - Biblioteca Central</td>\n",
              "      <td>15.400000</td>\n",
              "      <td>0.0</td>\n",
              "    </tr>\n",
              "    <tr>\n",
              "      <th>3</th>\n",
              "      <td>M</td>\n",
              "      <td>1991-12-19</td>\n",
              "      <td>NaN</td>\n",
              "      <td>2018-01-01</td>\n",
              "      <td>06:53:53</td>\n",
              "      <td>06:59:45</td>\n",
              "      <td>10 - Ministério dos Transportes</td>\n",
              "      <td>6 - Rodoviária</td>\n",
              "      <td>5.866667</td>\n",
              "      <td>0.0</td>\n",
              "    </tr>\n",
              "    <tr>\n",
              "      <th>4</th>\n",
              "      <td>M</td>\n",
              "      <td>1969-03-03</td>\n",
              "      <td>DF</td>\n",
              "      <td>2018-01-01</td>\n",
              "      <td>06:58:56</td>\n",
              "      <td>17:40:04</td>\n",
              "      <td>15 - Brasil 21</td>\n",
              "      <td>11 - Rodoviária 2</td>\n",
              "      <td>641.133333</td>\n",
              "      <td>1.0</td>\n",
              "    </tr>\n",
              "  </tbody>\n",
              "</table>\n",
              "</div>"
            ],
            "text/plain": [
              "  user_gender user_birthdate  ... ride_duration ride_late\n",
              "0           M     1971-06-08  ...     16.250000       0.0\n",
              "1           M     1989-02-11  ...      5.266667       0.0\n",
              "2           M     1968-07-19  ...     15.400000       0.0\n",
              "3           M     1991-12-19  ...      5.866667       0.0\n",
              "4           M     1969-03-03  ...    641.133333       1.0\n",
              "\n",
              "[5 rows x 10 columns]"
            ]
          },
          "metadata": {
            "tags": []
          },
          "execution_count": 3
        }
      ]
    },
    {
      "cell_type": "markdown",
      "metadata": {
        "id": "ZEvDtipaEN6X"
      },
      "source": [
        "**Resumo das informações**\r\n",
        "* count - quantidade de entradas válidas\r\n",
        "* mean - média dos valores\r\n",
        "* std - desvio padrão\r\n",
        "* min - menor valor da coluna\r\n",
        "* 25% - percentil 25\r\n",
        "* 50% - percentil 50 (e mediana)\r\n",
        "* 75% - percentil 75\r\n",
        "* max - maior valor da coluna"
      ]
    },
    {
      "cell_type": "code",
      "metadata": {
        "colab": {
          "base_uri": "https://localhost:8080/",
          "height": 284
        },
        "id": "tqX9m0eoEHG3",
        "outputId": "9a1a0c01-23ce-457d-8abc-90f88722678b"
      },
      "source": [
        "#Descrevendo o df\r\n",
        "df.describe()"
      ],
      "execution_count": 4,
      "outputs": [
        {
          "output_type": "execute_result",
          "data": {
            "text/html": [
              "<div>\n",
              "<style scoped>\n",
              "    .dataframe tbody tr th:only-of-type {\n",
              "        vertical-align: middle;\n",
              "    }\n",
              "\n",
              "    .dataframe tbody tr th {\n",
              "        vertical-align: top;\n",
              "    }\n",
              "\n",
              "    .dataframe thead th {\n",
              "        text-align: right;\n",
              "    }\n",
              "</style>\n",
              "<table border=\"1\" class=\"dataframe\">\n",
              "  <thead>\n",
              "    <tr style=\"text-align: right;\">\n",
              "      <th></th>\n",
              "      <th>ride_duration</th>\n",
              "      <th>ride_late</th>\n",
              "    </tr>\n",
              "  </thead>\n",
              "  <tbody>\n",
              "    <tr>\n",
              "      <th>count</th>\n",
              "      <td>214148.000000</td>\n",
              "      <td>214148.000000</td>\n",
              "    </tr>\n",
              "    <tr>\n",
              "      <th>mean</th>\n",
              "      <td>29.915932</td>\n",
              "      <td>0.098829</td>\n",
              "    </tr>\n",
              "    <tr>\n",
              "      <th>std</th>\n",
              "      <td>58.857297</td>\n",
              "      <td>0.298433</td>\n",
              "    </tr>\n",
              "    <tr>\n",
              "      <th>min</th>\n",
              "      <td>3.000000</td>\n",
              "      <td>0.000000</td>\n",
              "    </tr>\n",
              "    <tr>\n",
              "      <th>25%</th>\n",
              "      <td>8.083333</td>\n",
              "      <td>0.000000</td>\n",
              "    </tr>\n",
              "    <tr>\n",
              "      <th>50%</th>\n",
              "      <td>14.200000</td>\n",
              "      <td>0.000000</td>\n",
              "    </tr>\n",
              "    <tr>\n",
              "      <th>75%</th>\n",
              "      <td>33.766667</td>\n",
              "      <td>0.000000</td>\n",
              "    </tr>\n",
              "    <tr>\n",
              "      <th>max</th>\n",
              "      <td>999.600000</td>\n",
              "      <td>1.000000</td>\n",
              "    </tr>\n",
              "  </tbody>\n",
              "</table>\n",
              "</div>"
            ],
            "text/plain": [
              "       ride_duration      ride_late\n",
              "count  214148.000000  214148.000000\n",
              "mean       29.915932       0.098829\n",
              "std        58.857297       0.298433\n",
              "min         3.000000       0.000000\n",
              "25%         8.083333       0.000000\n",
              "50%        14.200000       0.000000\n",
              "75%        33.766667       0.000000\n",
              "max       999.600000       1.000000"
            ]
          },
          "metadata": {
            "tags": []
          },
          "execution_count": 4
        }
      ]
    },
    {
      "cell_type": "markdown",
      "metadata": {
        "id": "qMYekAq9FOcL"
      },
      "source": [
        "**Calculando Médias**"
      ]
    },
    {
      "cell_type": "code",
      "metadata": {
        "colab": {
          "base_uri": "https://localhost:8080/"
        },
        "id": "1ZvrMXgWFWSs",
        "outputId": "28ec378b-50c1-4409-ab76-f38bcd4468c8"
      },
      "source": [
        "#calculando media de uma coluna\r\n",
        "df.ride_duration.mean()"
      ],
      "execution_count": 7,
      "outputs": [
        {
          "output_type": "execute_result",
          "data": {
            "text/plain": [
              "29.915931894453134"
            ]
          },
          "metadata": {
            "tags": []
          },
          "execution_count": 7
        }
      ]
    },
    {
      "cell_type": "markdown",
      "metadata": {
        "id": "jevS8X13G5xb"
      },
      "source": [
        "**Calculando Mediana**\r\n",
        "\r\n",
        "A mediana é otima para verificar o valor do meio, assim fica mais claro saber se há valores fora de padrão em comparação com máximas e a média.\r\n",
        "\r\n",
        "Na descrição é o valor de 50%.\r\n"
      ]
    },
    {
      "cell_type": "code",
      "metadata": {
        "colab": {
          "base_uri": "https://localhost:8080/"
        },
        "id": "_Z5D3BJjHPfe",
        "outputId": "666cd36f-4327-49fc-9990-13eecef76073"
      },
      "source": [
        "#calculando a mediana\r\n",
        "df.ride_duration.median()"
      ],
      "execution_count": 8,
      "outputs": [
        {
          "output_type": "execute_result",
          "data": {
            "text/plain": [
              "14.2"
            ]
          },
          "metadata": {
            "tags": []
          },
          "execution_count": 8
        }
      ]
    },
    {
      "cell_type": "markdown",
      "metadata": {
        "id": "a7jaEUg5HpDy"
      },
      "source": [
        "**Desvio Padrão**\r\n",
        "Usamos std."
      ]
    },
    {
      "cell_type": "code",
      "metadata": {
        "colab": {
          "base_uri": "https://localhost:8080/"
        },
        "id": "8mKHkNEfJRtx",
        "outputId": "67ae22fc-33f5-4bae-d1c5-455a397cfe90"
      },
      "source": [
        "#calculando o desvio padrão\r\n",
        "df.ride_duration.std()"
      ],
      "execution_count": 9,
      "outputs": [
        {
          "output_type": "execute_result",
          "data": {
            "text/plain": [
              "58.85729654164017"
            ]
          },
          "metadata": {
            "tags": []
          },
          "execution_count": 9
        }
      ]
    },
    {
      "cell_type": "code",
      "metadata": {
        "colab": {
          "base_uri": "https://localhost:8080/"
        },
        "id": "MhrukBk7KGji",
        "outputId": "b9f3ed30-f873-413c-9d44-5ef7e6ab14da"
      },
      "source": [
        "#Media\r\n",
        "df.ride_duration.mean()"
      ],
      "execution_count": 12,
      "outputs": [
        {
          "output_type": "execute_result",
          "data": {
            "text/plain": [
              "29.915931894453134"
            ]
          },
          "metadata": {
            "tags": []
          },
          "execution_count": 12
        }
      ]
    },
    {
      "cell_type": "code",
      "metadata": {
        "colab": {
          "base_uri": "https://localhost:8080/"
        },
        "id": "2VJ8uCoMJ6HB",
        "outputId": "3c4f2e06-7e76-4ab2-bf30-04a6c15f3e6a"
      },
      "source": [
        "#Valor Máximo\r\n",
        "df.ride_duration.max()"
      ],
      "execution_count": 10,
      "outputs": [
        {
          "output_type": "execute_result",
          "data": {
            "text/plain": [
              "999.6"
            ]
          },
          "metadata": {
            "tags": []
          },
          "execution_count": 10
        }
      ]
    },
    {
      "cell_type": "code",
      "metadata": {
        "colab": {
          "base_uri": "https://localhost:8080/"
        },
        "id": "fbda7cDHJ_qZ",
        "outputId": "fe5d78d3-92f9-47b7-cc5f-5f12b160ec65"
      },
      "source": [
        "#Valor Minimo\r\n",
        "df.ride_duration.min()"
      ],
      "execution_count": 11,
      "outputs": [
        {
          "output_type": "execute_result",
          "data": {
            "text/plain": [
              "3.0"
            ]
          },
          "metadata": {
            "tags": []
          },
          "execution_count": 11
        }
      ]
    }
  ]
}